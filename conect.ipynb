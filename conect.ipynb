{
 "cells": [
  {
   "cell_type": "code",
   "execution_count": 1,
   "metadata": {},
   "outputs": [],
   "source": [
    "# Import da biblioteca\n",
    "import pymongo"
   ]
  },
  {
   "cell_type": "code",
   "execution_count": 4,
   "metadata": {},
   "outputs": [
    {
     "data": {
      "text/plain": [
       "<pymongo.results.InsertOneResult at 0x21200f81ea0>"
      ]
     },
     "execution_count": 4,
     "metadata": {},
     "output_type": "execute_result"
    }
   ],
   "source": [
    "# Conecte-se ao servidor MongoDB local\n",
    "client = pymongo.MongoClient(\"mongodb://localhost:27017/\")\n",
    "\n",
    "# Acessa um banco de dados\n",
    "db = client[\"inventario\"]\n",
    "\n",
    "#  Acessa uma coleção \n",
    "colecao = db[\"empresa\"]\n",
    "\n",
    "# Cria um documento qualquer\n",
    "documento = {\n",
    "    \"razão_social\": 'Sony',\n",
    "    \"cep\": 6549847,\n",
    "    \"cnpj\": 123987,\n",
    "    \"tipo_empresa\": 'Concorrente'\n",
    "}\n",
    "\n",
    "# Inserir um documento na coleção\n",
    "colecao.insert_one(documento)"
   ]
  },
  {
   "cell_type": "code",
   "execution_count": 6,
   "metadata": {},
   "outputs": [
    {
     "name": "stdout",
     "output_type": "stream",
     "text": [
      "None\n"
     ]
    }
   ],
   "source": [
    "# Encontra um documento na coleção\n",
    "resultado = colecao.find_one({\"razão_social\": \"Microsoft Corporation do Brasil Ltda\"})\n",
    "print(resultado)"
   ]
  },
  {
   "cell_type": "code",
   "execution_count": 7,
   "metadata": {},
   "outputs": [
    {
     "data": {
      "text/plain": [
       "<pymongo.results.DeleteResult at 0x21200f82410>"
      ]
     },
     "execution_count": 7,
     "metadata": {},
     "output_type": "execute_result"
    }
   ],
   "source": [
    "# Exclua um documento da coleção\n",
    "colecao.delete_one({\"razão_social\": \"Sony\"})"
   ]
  },
  {
   "cell_type": "code",
   "execution_count": 8,
   "metadata": {},
   "outputs": [
    {
     "name": "stdout",
     "output_type": "stream",
     "text": [
      "Todos os documentos na coleção:\n",
      "{'_id': ObjectId('64fdbbe984d6752c37d43cdf'), 'razão_social': 'IBM do Brasil Ltda', 'endereço': {'logradouro': 'Rua Tutoia', 'número': 100, 'bairro': 'Paraíso', 'cidade': 'São Paulo'}, 'fones': [11998877665.0, 11998070605.0], 'ano_fundação': 1911}\n",
      "{'_id': ObjectId('64fdbc4284d6752c37d43ce0'), 'razão_social': 'Microsoft Corporation do Brasil Ltda.', 'endereço': 'Av. Engenheiro Berrini, 1000-Broklin-São Paulo', 'fones': {'$push': {'ddd': 11, 'número': 997650000}}, 'tipo_empresa': 'Fabricante', 'ano_fundação': 1974}\n",
      "{'_id': ObjectId('64fdbc4284d6752c37d43ce1'), 'razão_social': 'ABC Equipamentos de Informática SA', 'cep': 12345678, 'cnpj': 123987, 'tipo_empresa': 'Fornecedor'}\n",
      "{'_id': ObjectId('64fdc1ee84d6752c37d43ce3'), 'razão_social': 'Multilaser', 'tipo': 'Fornecedor', 'cnpj': 5465482, 'endereço': {'logradouro': 'Rua das Margaridas', 'número': 80, 'cep': 6546485, 'bairro': 'São Mateus', 'cidade': 'São Paulo'}, 'fones': [{'ddd': 11, 'fone': 994135456}, {'ddd': 11, 'fone': 998251654}]}\n",
      "{'_id': ObjectId('64ff8d5df8488269c0826f3c'), 'razão_social': 'Sony', 'cep': 6549847, 'cnpj': 123987, 'tipo_empresa': 'Concorrente'}\n"
     ]
    }
   ],
   "source": [
    "# Lista todos os documentos na coleção\n",
    "todos_documentos = colecao.find()\n",
    "print(\"Todos os documentos na coleção:\")\n",
    "for documento in todos_documentos:\n",
    "    print(documento)\n"
   ]
  },
  {
   "cell_type": "code",
   "execution_count": null,
   "metadata": {},
   "outputs": [],
   "source": [
    "# Fecha a conexão com o servidor MongoDB\n",
    "client.close()"
   ]
  }
 ],
 "metadata": {
  "kernelspec": {
   "display_name": "Python 3",
   "language": "python",
   "name": "python3"
  },
  "language_info": {
   "codemirror_mode": {
    "name": "ipython",
    "version": 3
   },
   "file_extension": ".py",
   "mimetype": "text/x-python",
   "name": "python",
   "nbconvert_exporter": "python",
   "pygments_lexer": "ipython3",
   "version": "3.11.5"
  },
  "orig_nbformat": 4
 },
 "nbformat": 4,
 "nbformat_minor": 2
}
